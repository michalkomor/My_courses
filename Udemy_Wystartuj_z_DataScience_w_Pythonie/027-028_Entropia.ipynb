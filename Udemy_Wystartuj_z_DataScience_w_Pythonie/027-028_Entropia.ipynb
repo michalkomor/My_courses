{
 "cells": [
  {
   "cell_type": "code",
   "execution_count": 1,
   "metadata": {},
   "outputs": [],
   "source": [
    "%matplotlib inline"
   ]
  },
  {
   "cell_type": "code",
   "execution_count": 2,
   "metadata": {},
   "outputs": [],
   "source": [
    "import pandas as pd"
   ]
  },
  {
   "cell_type": "code",
   "execution_count": 3,
   "metadata": {},
   "outputs": [],
   "source": [
    "wolne = ['książka', 'książka', 'książka', 'książka', 'telewizja', 'książka', 'telewizja', 'telewizja', 'książka', \n",
    "         'książka', 'telewizja', 'telewizja', 'telewizja', 'książka', 'telewizja', 'telewizja', 'telewizja', 'książka', \n",
    "         'książka', 'telewizja']\n",
    "napój = ['herbata', 'kawa', 'kawa', 'herbata', 'kawa', 'kawa', 'herbata', 'kawa', 'kawa', 'herbata', 'herbata', \n",
    "         'herbata', 'kawa', 'kawa', 'herbata', 'kawa', 'herbata', 'herbata', 'herbata', 'kawa']\n",
    "wyjście = ['teatr', 'teatr', 'kino', 'kino', 'teatr', 'kino', 'kino', 'teatr', 'kino', 'kino', 'kino', 'teatr', 'teatr',\n",
    "           'teatr', 'kino', 'kino', 'teatr', 'teatr', 'teatr', 'teatr']\n",
    "po_roku = ['Tak', 'Nie', 'Tak', 'Tak', 'Nie', 'Tak', 'Nie', 'Tak', 'Nie', 'Tak', 'Nie', 'Nie', 'Nie', 'Tak', 'Nie', \n",
    "           'Nie', 'Tak', 'Nie', 'Nie', 'Tak']"
   ]
  },
  {
   "cell_type": "code",
   "execution_count": 4,
   "metadata": {},
   "outputs": [],
   "source": [
    "prenumeratorzy = pd.DataFrame({\"wolne\": wolne, \"napój\": napój, \"wyjście\": wyjście, \"po_roku\":po_roku})"
   ]
  },
  {
   "cell_type": "code",
   "execution_count": 5,
   "metadata": {},
   "outputs": [
    {
     "data": {
      "text/html": [
       "<div>\n",
       "<style scoped>\n",
       "    .dataframe tbody tr th:only-of-type {\n",
       "        vertical-align: middle;\n",
       "    }\n",
       "\n",
       "    .dataframe tbody tr th {\n",
       "        vertical-align: top;\n",
       "    }\n",
       "\n",
       "    .dataframe thead th {\n",
       "        text-align: right;\n",
       "    }\n",
       "</style>\n",
       "<table border=\"1\" class=\"dataframe\">\n",
       "  <thead>\n",
       "    <tr style=\"text-align: right;\">\n",
       "      <th></th>\n",
       "      <th>wolne</th>\n",
       "      <th>napój</th>\n",
       "      <th>wyjście</th>\n",
       "      <th>po_roku</th>\n",
       "    </tr>\n",
       "  </thead>\n",
       "  <tbody>\n",
       "    <tr>\n",
       "      <th>0</th>\n",
       "      <td>książka</td>\n",
       "      <td>herbata</td>\n",
       "      <td>teatr</td>\n",
       "      <td>Tak</td>\n",
       "    </tr>\n",
       "    <tr>\n",
       "      <th>1</th>\n",
       "      <td>książka</td>\n",
       "      <td>kawa</td>\n",
       "      <td>teatr</td>\n",
       "      <td>Nie</td>\n",
       "    </tr>\n",
       "    <tr>\n",
       "      <th>2</th>\n",
       "      <td>książka</td>\n",
       "      <td>kawa</td>\n",
       "      <td>kino</td>\n",
       "      <td>Tak</td>\n",
       "    </tr>\n",
       "    <tr>\n",
       "      <th>3</th>\n",
       "      <td>książka</td>\n",
       "      <td>herbata</td>\n",
       "      <td>kino</td>\n",
       "      <td>Tak</td>\n",
       "    </tr>\n",
       "    <tr>\n",
       "      <th>4</th>\n",
       "      <td>telewizja</td>\n",
       "      <td>kawa</td>\n",
       "      <td>teatr</td>\n",
       "      <td>Nie</td>\n",
       "    </tr>\n",
       "    <tr>\n",
       "      <th>5</th>\n",
       "      <td>książka</td>\n",
       "      <td>kawa</td>\n",
       "      <td>kino</td>\n",
       "      <td>Tak</td>\n",
       "    </tr>\n",
       "    <tr>\n",
       "      <th>6</th>\n",
       "      <td>telewizja</td>\n",
       "      <td>herbata</td>\n",
       "      <td>kino</td>\n",
       "      <td>Nie</td>\n",
       "    </tr>\n",
       "    <tr>\n",
       "      <th>7</th>\n",
       "      <td>telewizja</td>\n",
       "      <td>kawa</td>\n",
       "      <td>teatr</td>\n",
       "      <td>Tak</td>\n",
       "    </tr>\n",
       "    <tr>\n",
       "      <th>8</th>\n",
       "      <td>książka</td>\n",
       "      <td>kawa</td>\n",
       "      <td>kino</td>\n",
       "      <td>Nie</td>\n",
       "    </tr>\n",
       "    <tr>\n",
       "      <th>9</th>\n",
       "      <td>książka</td>\n",
       "      <td>herbata</td>\n",
       "      <td>kino</td>\n",
       "      <td>Tak</td>\n",
       "    </tr>\n",
       "    <tr>\n",
       "      <th>10</th>\n",
       "      <td>telewizja</td>\n",
       "      <td>herbata</td>\n",
       "      <td>kino</td>\n",
       "      <td>Nie</td>\n",
       "    </tr>\n",
       "    <tr>\n",
       "      <th>11</th>\n",
       "      <td>telewizja</td>\n",
       "      <td>herbata</td>\n",
       "      <td>teatr</td>\n",
       "      <td>Nie</td>\n",
       "    </tr>\n",
       "    <tr>\n",
       "      <th>12</th>\n",
       "      <td>telewizja</td>\n",
       "      <td>kawa</td>\n",
       "      <td>teatr</td>\n",
       "      <td>Nie</td>\n",
       "    </tr>\n",
       "    <tr>\n",
       "      <th>13</th>\n",
       "      <td>książka</td>\n",
       "      <td>kawa</td>\n",
       "      <td>teatr</td>\n",
       "      <td>Tak</td>\n",
       "    </tr>\n",
       "    <tr>\n",
       "      <th>14</th>\n",
       "      <td>telewizja</td>\n",
       "      <td>herbata</td>\n",
       "      <td>kino</td>\n",
       "      <td>Nie</td>\n",
       "    </tr>\n",
       "    <tr>\n",
       "      <th>15</th>\n",
       "      <td>telewizja</td>\n",
       "      <td>kawa</td>\n",
       "      <td>kino</td>\n",
       "      <td>Nie</td>\n",
       "    </tr>\n",
       "    <tr>\n",
       "      <th>16</th>\n",
       "      <td>telewizja</td>\n",
       "      <td>herbata</td>\n",
       "      <td>teatr</td>\n",
       "      <td>Tak</td>\n",
       "    </tr>\n",
       "    <tr>\n",
       "      <th>17</th>\n",
       "      <td>książka</td>\n",
       "      <td>herbata</td>\n",
       "      <td>teatr</td>\n",
       "      <td>Nie</td>\n",
       "    </tr>\n",
       "    <tr>\n",
       "      <th>18</th>\n",
       "      <td>książka</td>\n",
       "      <td>herbata</td>\n",
       "      <td>teatr</td>\n",
       "      <td>Nie</td>\n",
       "    </tr>\n",
       "    <tr>\n",
       "      <th>19</th>\n",
       "      <td>telewizja</td>\n",
       "      <td>kawa</td>\n",
       "      <td>teatr</td>\n",
       "      <td>Tak</td>\n",
       "    </tr>\n",
       "  </tbody>\n",
       "</table>\n",
       "</div>"
      ],
      "text/plain": [
       "        wolne    napój wyjście po_roku\n",
       "0     książka  herbata   teatr     Tak\n",
       "1     książka     kawa   teatr     Nie\n",
       "2     książka     kawa    kino     Tak\n",
       "3     książka  herbata    kino     Tak\n",
       "4   telewizja     kawa   teatr     Nie\n",
       "5     książka     kawa    kino     Tak\n",
       "6   telewizja  herbata    kino     Nie\n",
       "7   telewizja     kawa   teatr     Tak\n",
       "8     książka     kawa    kino     Nie\n",
       "9     książka  herbata    kino     Tak\n",
       "10  telewizja  herbata    kino     Nie\n",
       "11  telewizja  herbata   teatr     Nie\n",
       "12  telewizja     kawa   teatr     Nie\n",
       "13    książka     kawa   teatr     Tak\n",
       "14  telewizja  herbata    kino     Nie\n",
       "15  telewizja     kawa    kino     Nie\n",
       "16  telewizja  herbata   teatr     Tak\n",
       "17    książka  herbata   teatr     Nie\n",
       "18    książka  herbata   teatr     Nie\n",
       "19  telewizja     kawa   teatr     Tak"
      ]
     },
     "execution_count": 5,
     "metadata": {},
     "output_type": "execute_result"
    }
   ],
   "source": [
    "prenumeratorzy"
   ]
  },
  {
   "cell_type": "code",
   "execution_count": 6,
   "metadata": {},
   "outputs": [],
   "source": [
    "import pylab"
   ]
  },
  {
   "cell_type": "code",
   "execution_count": 7,
   "metadata": {},
   "outputs": [],
   "source": [
    "import numpy as np"
   ]
  },
  {
   "cell_type": "code",
   "execution_count": 8,
   "metadata": {},
   "outputs": [
    {
     "data": {
      "image/png": "[encoded data removed]",
      "text/plain": [
       "<Figure size 432x288 with 1 Axes>"
      ]
     },
     "metadata": {},
     "output_type": "display_data"
    }
   ],
   "source": [
    "\n",
    "import pylab\n",
    "import numpy as np\n",
    "\n",
    "x = np.linspace(0.0001,0.9999,1000) # 1000 punktów\n",
    "y = -x * np.log2(x) - (1-x) * np.log2(1-x) # wyznaczenie wartości entropii\n",
    "\n",
    "# wykres\n",
    "pylab.plot(x,y)\n",
    "pylab.grid()\n",
    "pylab.show()"
   ]
  },
  {
   "cell_type": "code",
   "execution_count": 9,
   "metadata": {},
   "outputs": [
    {
     "name": "stdout",
     "output_type": "stream",
     "text": [
      "0 wolne\n",
      "1 napój\n",
      "2 wyjście\n",
      "3 po_roku\n"
     ]
    }
   ],
   "source": [
    "for counter, value in enumerate(prenumeratorzy):\n",
    "    print(counter, value)"
   ]
  },
  {
   "cell_type": "code",
   "execution_count": 10,
   "metadata": {},
   "outputs": [],
   "source": [
    "P_Tak=len(prenumeratorzy[prenumeratorzy[\"po_roku\"]==\"Tak\"]) / len(prenumeratorzy)"
   ]
  },
  {
   "cell_type": "code",
   "execution_count": 11,
   "metadata": {},
   "outputs": [
    {
     "data": {
      "text/plain": [
       "0.45"
      ]
     },
     "execution_count": 11,
     "metadata": {},
     "output_type": "execute_result"
    }
   ],
   "source": [
    "P_Tak"
   ]
  },
  {
   "cell_type": "code",
   "execution_count": 12,
   "metadata": {},
   "outputs": [],
   "source": [
    "P_Nie=len(prenumeratorzy[prenumeratorzy[\"po_roku\"]==\"Nie\"]) / len(prenumeratorzy)"
   ]
  },
  {
   "cell_type": "code",
   "execution_count": 13,
   "metadata": {},
   "outputs": [
    {
     "data": {
      "text/plain": [
       "0.55"
      ]
     },
     "execution_count": 13,
     "metadata": {},
     "output_type": "execute_result"
    }
   ],
   "source": [
    "P_Nie"
   ]
  },
  {
   "cell_type": "code",
   "execution_count": 14,
   "metadata": {},
   "outputs": [],
   "source": [
    "H_calosc= -P_Tak*np.log2(P_Tak)-P_Nie*np.log2(P_Nie)"
   ]
  },
  {
   "cell_type": "code",
   "execution_count": 15,
   "metadata": {},
   "outputs": [
    {
     "data": {
      "text/plain": [
       "0.9927744539878083"
      ]
     },
     "execution_count": 15,
     "metadata": {},
     "output_type": "execute_result"
    }
   ],
   "source": [
    "H_calosc"
   ]
  },
  {
   "cell_type": "markdown",
   "metadata": {},
   "source": [
    "Podział po czasie wolnym"
   ]
  },
  {
   "cell_type": "code",
   "execution_count": 16,
   "metadata": {},
   "outputs": [],
   "source": [
    "prenumeratorzy_książka = prenumeratorzy[prenumeratorzy[\"wolne\"] == \"książka\"]\n",
    "prenumeratorzy_telewizja = prenumeratorzy[prenumeratorzy[\"wolne\"] == \"telewizja\"]"
   ]
  },
  {
   "cell_type": "code",
   "execution_count": 17,
   "metadata": {},
   "outputs": [],
   "source": [
    "P_Tak_książka = len(prenumeratorzy_książka[prenumeratorzy_książka[\"po_roku\"] == \"Tak\"]) / len(prenumeratorzy_książka)\n",
    "P_Nie_książka = len(prenumeratorzy_książka[prenumeratorzy_książka[\"po_roku\"] == \"Nie\"]) / len(prenumeratorzy_książka)\n",
    "H_książka = -P_Tak_książka * np.log2(P_Tak_książka) - P_Nie_książka * np.log2(P_Nie_książka)"
   ]
  },
  {
   "cell_type": "code",
   "execution_count": 18,
   "metadata": {},
   "outputs": [
    {
     "data": {
      "text/plain": [
       "0.9709505944546686"
      ]
     },
     "execution_count": 18,
     "metadata": {},
     "output_type": "execute_result"
    }
   ],
   "source": [
    "H_książka"
   ]
  },
  {
   "cell_type": "markdown",
   "metadata": {},
   "source": [
    "Definicja funkcji"
   ]
  },
  {
   "cell_type": "code",
   "execution_count": 19,
   "metadata": {},
   "outputs": [],
   "source": [
    "\n",
    "def obliczenie_entropii(data_frame):\n",
    "    p_tak = len(data_frame[data_frame[\"po_roku\"] == \"Tak\"]) / len(data_frame)\n",
    "    p_nie = 1 - p_tak\n",
    "    H = -p_tak * np.log2(p_tak) - p_nie * np.log2(p_nie)\n",
    "    return H"
   ]
  },
  {
   "cell_type": "code",
   "execution_count": 20,
   "metadata": {},
   "outputs": [],
   "source": [
    "H_telewizja=obliczenie_entropii(prenumeratorzy_telewizja)"
   ]
  },
  {
   "cell_type": "code",
   "execution_count": 21,
   "metadata": {},
   "outputs": [
    {
     "data": {
      "text/plain": [
       "0.8812908992306927"
      ]
     },
     "execution_count": 21,
     "metadata": {},
     "output_type": "execute_result"
    }
   ],
   "source": [
    "H_telewizja"
   ]
  },
  {
   "cell_type": "markdown",
   "metadata": {},
   "source": [
    "Podzial po napojach"
   ]
  },
  {
   "cell_type": "code",
   "execution_count": 22,
   "metadata": {},
   "outputs": [],
   "source": [
    "prenumeratorzy_kawa = prenumeratorzy[prenumeratorzy[\"napój\"] == \"kawa\"]\n",
    "prenumeratorzy_herbata = prenumeratorzy[prenumeratorzy[\"napój\"] == \"herbata\"]"
   ]
  },
  {
   "cell_type": "code",
   "execution_count": 23,
   "metadata": {},
   "outputs": [],
   "source": [
    "prenumeratorzy_kawa = prenumeratorzy[prenumeratorzy[\"napój\"] == \"kawa\"]\n",
    "prenumeratorzy_herbata = prenumeratorzy[prenumeratorzy[\"napój\"] == \"herbata\"]"
   ]
  },
  {
   "cell_type": "code",
   "execution_count": 24,
   "metadata": {},
   "outputs": [],
   "source": [
    "H_kawa=obliczenie_entropii(prenumeratorzy_kawa)"
   ]
  },
  {
   "cell_type": "code",
   "execution_count": 25,
   "metadata": {},
   "outputs": [
    {
     "data": {
      "text/html": [
       "<div>\n",
       "<style scoped>\n",
       "    .dataframe tbody tr th:only-of-type {\n",
       "        vertical-align: middle;\n",
       "    }\n",
       "\n",
       "    .dataframe tbody tr th {\n",
       "        vertical-align: top;\n",
       "    }\n",
       "\n",
       "    .dataframe thead th {\n",
       "        text-align: right;\n",
       "    }\n",
       "</style>\n",
       "<table border=\"1\" class=\"dataframe\">\n",
       "  <thead>\n",
       "    <tr style=\"text-align: right;\">\n",
       "      <th></th>\n",
       "      <th>wolne</th>\n",
       "      <th>napój</th>\n",
       "      <th>wyjście</th>\n",
       "      <th>po_roku</th>\n",
       "    </tr>\n",
       "  </thead>\n",
       "  <tbody>\n",
       "    <tr>\n",
       "      <th>1</th>\n",
       "      <td>książka</td>\n",
       "      <td>kawa</td>\n",
       "      <td>teatr</td>\n",
       "      <td>Nie</td>\n",
       "    </tr>\n",
       "    <tr>\n",
       "      <th>2</th>\n",
       "      <td>książka</td>\n",
       "      <td>kawa</td>\n",
       "      <td>kino</td>\n",
       "      <td>Tak</td>\n",
       "    </tr>\n",
       "    <tr>\n",
       "      <th>4</th>\n",
       "      <td>telewizja</td>\n",
       "      <td>kawa</td>\n",
       "      <td>teatr</td>\n",
       "      <td>Nie</td>\n",
       "    </tr>\n",
       "    <tr>\n",
       "      <th>5</th>\n",
       "      <td>książka</td>\n",
       "      <td>kawa</td>\n",
       "      <td>kino</td>\n",
       "      <td>Tak</td>\n",
       "    </tr>\n",
       "    <tr>\n",
       "      <th>7</th>\n",
       "      <td>telewizja</td>\n",
       "      <td>kawa</td>\n",
       "      <td>teatr</td>\n",
       "      <td>Tak</td>\n",
       "    </tr>\n",
       "    <tr>\n",
       "      <th>8</th>\n",
       "      <td>książka</td>\n",
       "      <td>kawa</td>\n",
       "      <td>kino</td>\n",
       "      <td>Nie</td>\n",
       "    </tr>\n",
       "    <tr>\n",
       "      <th>12</th>\n",
       "      <td>telewizja</td>\n",
       "      <td>kawa</td>\n",
       "      <td>teatr</td>\n",
       "      <td>Nie</td>\n",
       "    </tr>\n",
       "    <tr>\n",
       "      <th>13</th>\n",
       "      <td>książka</td>\n",
       "      <td>kawa</td>\n",
       "      <td>teatr</td>\n",
       "      <td>Tak</td>\n",
       "    </tr>\n",
       "    <tr>\n",
       "      <th>15</th>\n",
       "      <td>telewizja</td>\n",
       "      <td>kawa</td>\n",
       "      <td>kino</td>\n",
       "      <td>Nie</td>\n",
       "    </tr>\n",
       "    <tr>\n",
       "      <th>19</th>\n",
       "      <td>telewizja</td>\n",
       "      <td>kawa</td>\n",
       "      <td>teatr</td>\n",
       "      <td>Tak</td>\n",
       "    </tr>\n",
       "  </tbody>\n",
       "</table>\n",
       "</div>"
      ],
      "text/plain": [
       "        wolne napój wyjście po_roku\n",
       "1     książka  kawa   teatr     Nie\n",
       "2     książka  kawa    kino     Tak\n",
       "4   telewizja  kawa   teatr     Nie\n",
       "5     książka  kawa    kino     Tak\n",
       "7   telewizja  kawa   teatr     Tak\n",
       "8     książka  kawa    kino     Nie\n",
       "12  telewizja  kawa   teatr     Nie\n",
       "13    książka  kawa   teatr     Tak\n",
       "15  telewizja  kawa    kino     Nie\n",
       "19  telewizja  kawa   teatr     Tak"
      ]
     },
     "execution_count": 25,
     "metadata": {},
     "output_type": "execute_result"
    }
   ],
   "source": [
    "prenumeratorzy_kawa"
   ]
  },
  {
   "cell_type": "code",
   "execution_count": 26,
   "metadata": {},
   "outputs": [],
   "source": [
    "H_herbata=obliczenie_entropii(prenumeratorzy_herbata)"
   ]
  },
  {
   "cell_type": "code",
   "execution_count": 27,
   "metadata": {},
   "outputs": [
    {
     "data": {
      "text/plain": [
       "(0.9709505944546686, 1.0)"
      ]
     },
     "execution_count": 27,
     "metadata": {},
     "output_type": "execute_result"
    }
   ],
   "source": [
    "H_herbata, H_kawa"
   ]
  },
  {
   "cell_type": "code",
   "execution_count": 28,
   "metadata": {},
   "outputs": [
    {
     "name": "stdout",
     "output_type": "stream",
     "text": [
      "0.9910760598382222 0.9940302114769565\n"
     ]
    }
   ],
   "source": [
    "H_kino = obliczenie_entropii(prenumeratorzy[prenumeratorzy[\"wyjście\"] == \"kino\"])\n",
    "H_teatr = obliczenie_entropii(prenumeratorzy[prenumeratorzy[\"wyjście\"] == \"teatr\"])\n",
    "print(H_kino, H_teatr)"
   ]
  },
  {
   "cell_type": "code",
   "execution_count": 29,
   "metadata": {},
   "outputs": [
    {
     "data": {
      "text/plain": [
       "(0.9927744539878083,\n",
       " 0.9709505944546686,\n",
       " 1.0,\n",
       " 0.9910760598382222,\n",
       " 0.9940302114769565,\n",
       " 0.9709505944546686,\n",
       " 0.8812908992306927)"
      ]
     },
     "execution_count": 29,
     "metadata": {},
     "output_type": "execute_result"
    }
   ],
   "source": [
    "H_calosc, H_herbata, H_kawa, H_kino, H_teatr, H_książka, H_telewizja"
   ]
  },
  {
   "cell_type": "code",
   "execution_count": 30,
   "metadata": {},
   "outputs": [
    {
     "data": {
      "text/plain": [
       "telewizja    10\n",
       "książka      10\n",
       "Name: wolne, dtype: int64"
      ]
     },
     "execution_count": 30,
     "metadata": {},
     "output_type": "execute_result"
    }
   ],
   "source": [
    "prenumeratorzy['wolne'].value_counts()"
   ]
  },
  {
   "cell_type": "code",
   "execution_count": 31,
   "metadata": {},
   "outputs": [],
   "source": [
    "P_ksiazka, P_telewizja = prenumeratorzy[\"wolne\"].value_counts(normalize=True) #liczba wystąpień danej wartości względem wszystkich wystąpień"
   ]
  },
  {
   "cell_type": "code",
   "execution_count": 32,
   "metadata": {},
   "outputs": [
    {
     "data": {
      "text/plain": [
       "(0.5, 0.5)"
      ]
     },
     "execution_count": 32,
     "metadata": {},
     "output_type": "execute_result"
    }
   ],
   "source": [
    "P_ksiazka, P_telewizja "
   ]
  },
  {
   "cell_type": "code",
   "execution_count": 33,
   "metadata": {},
   "outputs": [
    {
     "data": {
      "text/plain": [
       "0.06665370714512764"
      ]
     },
     "execution_count": 33,
     "metadata": {},
     "output_type": "execute_result"
    }
   ],
   "source": [
    "PI_wolne= H_calosc - P_ksiazka *H_książka- P_telewizja*H_telewizja #przyrost informacji\n",
    "PI_wolne"
   ]
  },
  {
   "cell_type": "code",
   "execution_count": 34,
   "metadata": {},
   "outputs": [
    {
     "data": {
      "text/plain": [
       "(0.5, 0.5)"
      ]
     },
     "execution_count": 34,
     "metadata": {},
     "output_type": "execute_result"
    }
   ],
   "source": [
    "P_kawa = prenumeratorzy[\"napój\"].value_counts(normalize = True)[\"kawa\"]\n",
    "P_herbata = prenumeratorzy[\"napój\"].value_counts(normalize = True)[\"herbata\"]\n",
    "P_kawa, P_herbata"
   ]
  },
  {
   "cell_type": "code",
   "execution_count": 35,
   "metadata": {},
   "outputs": [
    {
     "data": {
      "text/plain": [
       "0.00729915676047399"
      ]
     },
     "execution_count": 35,
     "metadata": {},
     "output_type": "execute_result"
    }
   ],
   "source": [
    "PI_napoj = H_calosc - P_kawa * H_kawa - P_herbata * H_herbata #przyrost informacji\n",
    "PI_napoj"
   ]
  },
  {
   "cell_type": "code",
   "execution_count": 36,
   "metadata": {},
   "outputs": [
    {
     "data": {
      "text/plain": [
       "(0.45, 0.55)"
      ]
     },
     "execution_count": 36,
     "metadata": {},
     "output_type": "execute_result"
    }
   ],
   "source": [
    "P_kino = prenumeratorzy[\"wyjście\"].value_counts(normalize = True)[\"kino\"]\n",
    "P_teatr = prenumeratorzy[\"wyjście\"].value_counts(normalize = True)[\"teatr\"]\n",
    "P_kino, P_teatr"
   ]
  },
  {
   "cell_type": "code",
   "execution_count": 37,
   "metadata": {},
   "outputs": [
    {
     "data": {
      "text/plain": [
       "7.361074828204917e-05"
      ]
     },
     "execution_count": 37,
     "metadata": {},
     "output_type": "execute_result"
    }
   ],
   "source": [
    "PI_wyjscie = H_calosc - P_kino * H_kino - P_teatr * H_teatr #przyrost informacji\n",
    "PI_wyjscie"
   ]
  },
  {
   "cell_type": "code",
   "execution_count": 38,
   "metadata": {},
   "outputs": [
    {
     "data": {
      "text/plain": [
       "(0.06665370714512764, 0.00729915676047399, 7.361074828204917e-05)"
      ]
     },
     "execution_count": 38,
     "metadata": {},
     "output_type": "execute_result"
    }
   ],
   "source": [
    "PI_wolne, PI_napoj,  PI_wyjscie"
   ]
  },
  {
   "cell_type": "code",
   "execution_count": 39,
   "metadata": {},
   "outputs": [],
   "source": [
    "#czyli wolne to najważniejsze kryterium!!!"
   ]
  },
  {
   "cell_type": "code",
   "execution_count": 40,
   "metadata": {},
   "outputs": [],
   "source": [
    "from sklearn.tree import DecisionTreeClassifier"
   ]
  },
  {
   "cell_type": "code",
   "execution_count": 41,
   "metadata": {},
   "outputs": [
    {
     "data": {
      "text/html": [
       "<div>\n",
       "<style scoped>\n",
       "    .dataframe tbody tr th:only-of-type {\n",
       "        vertical-align: middle;\n",
       "    }\n",
       "\n",
       "    .dataframe tbody tr th {\n",
       "        vertical-align: top;\n",
       "    }\n",
       "\n",
       "    .dataframe thead th {\n",
       "        text-align: right;\n",
       "    }\n",
       "</style>\n",
       "<table border=\"1\" class=\"dataframe\">\n",
       "  <thead>\n",
       "    <tr style=\"text-align: right;\">\n",
       "      <th></th>\n",
       "      <th>wolne</th>\n",
       "      <th>napój</th>\n",
       "      <th>wyjście</th>\n",
       "      <th>po_roku</th>\n",
       "    </tr>\n",
       "  </thead>\n",
       "  <tbody>\n",
       "    <tr>\n",
       "      <th>0</th>\n",
       "      <td>książka</td>\n",
       "      <td>herbata</td>\n",
       "      <td>teatr</td>\n",
       "      <td>Tak</td>\n",
       "    </tr>\n",
       "    <tr>\n",
       "      <th>1</th>\n",
       "      <td>książka</td>\n",
       "      <td>kawa</td>\n",
       "      <td>teatr</td>\n",
       "      <td>Nie</td>\n",
       "    </tr>\n",
       "    <tr>\n",
       "      <th>2</th>\n",
       "      <td>książka</td>\n",
       "      <td>kawa</td>\n",
       "      <td>kino</td>\n",
       "      <td>Tak</td>\n",
       "    </tr>\n",
       "    <tr>\n",
       "      <th>3</th>\n",
       "      <td>książka</td>\n",
       "      <td>herbata</td>\n",
       "      <td>kino</td>\n",
       "      <td>Tak</td>\n",
       "    </tr>\n",
       "    <tr>\n",
       "      <th>4</th>\n",
       "      <td>telewizja</td>\n",
       "      <td>kawa</td>\n",
       "      <td>teatr</td>\n",
       "      <td>Nie</td>\n",
       "    </tr>\n",
       "  </tbody>\n",
       "</table>\n",
       "</div>"
      ],
      "text/plain": [
       "       wolne    napój wyjście po_roku\n",
       "0    książka  herbata   teatr     Tak\n",
       "1    książka     kawa   teatr     Nie\n",
       "2    książka     kawa    kino     Tak\n",
       "3    książka  herbata    kino     Tak\n",
       "4  telewizja     kawa   teatr     Nie"
      ]
     },
     "execution_count": 41,
     "metadata": {},
     "output_type": "execute_result"
    }
   ],
   "source": [
    "prenumeratorzy.head()"
   ]
  },
  {
   "cell_type": "code",
   "execution_count": 42,
   "metadata": {},
   "outputs": [],
   "source": [
    "prenumeratorzy[\"wolne\"], wolne_kody = pd.factorize(prenumeratorzy[\"wolne\"])\n",
    "prenumeratorzy[\"napój\"], napój_kody = pd.factorize(prenumeratorzy[\"napój\"])\n",
    "prenumeratorzy[\"wyjście\"], wyjście_kody = pd.factorize(prenumeratorzy[\"wyjście\"])\n",
    "prenumeratorzy[\"po_roku\"], po_roku_kody = pd.factorize(prenumeratorzy[\"po_roku\"])"
   ]
  },
  {
   "cell_type": "code",
   "execution_count": 43,
   "metadata": {},
   "outputs": [
    {
     "data": {
      "text/html": [
       "<div>\n",
       "<style scoped>\n",
       "    .dataframe tbody tr th:only-of-type {\n",
       "        vertical-align: middle;\n",
       "    }\n",
       "\n",
       "    .dataframe tbody tr th {\n",
       "        vertical-align: top;\n",
       "    }\n",
       "\n",
       "    .dataframe thead th {\n",
       "        text-align: right;\n",
       "    }\n",
       "</style>\n",
       "<table border=\"1\" class=\"dataframe\">\n",
       "  <thead>\n",
       "    <tr style=\"text-align: right;\">\n",
       "      <th></th>\n",
       "      <th>wolne</th>\n",
       "      <th>napój</th>\n",
       "      <th>wyjście</th>\n",
       "      <th>po_roku</th>\n",
       "    </tr>\n",
       "  </thead>\n",
       "  <tbody>\n",
       "    <tr>\n",
       "      <th>0</th>\n",
       "      <td>0</td>\n",
       "      <td>0</td>\n",
       "      <td>0</td>\n",
       "      <td>0</td>\n",
       "    </tr>\n",
       "    <tr>\n",
       "      <th>1</th>\n",
       "      <td>0</td>\n",
       "      <td>1</td>\n",
       "      <td>0</td>\n",
       "      <td>1</td>\n",
       "    </tr>\n",
       "    <tr>\n",
       "      <th>2</th>\n",
       "      <td>0</td>\n",
       "      <td>1</td>\n",
       "      <td>1</td>\n",
       "      <td>0</td>\n",
       "    </tr>\n",
       "    <tr>\n",
       "      <th>3</th>\n",
       "      <td>0</td>\n",
       "      <td>0</td>\n",
       "      <td>1</td>\n",
       "      <td>0</td>\n",
       "    </tr>\n",
       "    <tr>\n",
       "      <th>4</th>\n",
       "      <td>1</td>\n",
       "      <td>1</td>\n",
       "      <td>0</td>\n",
       "      <td>1</td>\n",
       "    </tr>\n",
       "  </tbody>\n",
       "</table>\n",
       "</div>"
      ],
      "text/plain": [
       "   wolne  napój  wyjście  po_roku\n",
       "0      0      0        0        0\n",
       "1      0      1        0        1\n",
       "2      0      1        1        0\n",
       "3      0      0        1        0\n",
       "4      1      1        0        1"
      ]
     },
     "execution_count": 43,
     "metadata": {},
     "output_type": "execute_result"
    }
   ],
   "source": [
    "prenumeratorzy.head()"
   ]
  },
  {
   "cell_type": "code",
   "execution_count": 44,
   "metadata": {},
   "outputs": [
    {
     "data": {
      "text/plain": [
       "(Index(['książka', 'telewizja'], dtype='object'),\n",
       " Index(['herbata', 'kawa'], dtype='object'),\n",
       " Index(['teatr', 'kino'], dtype='object'),\n",
       " Index(['Tak', 'Nie'], dtype='object'))"
      ]
     },
     "execution_count": 44,
     "metadata": {},
     "output_type": "execute_result"
    }
   ],
   "source": [
    "wolne_kody, napój_kody, wyjście_kody, po_roku_kody"
   ]
  },
  {
   "cell_type": "code",
   "execution_count": 52,
   "metadata": {},
   "outputs": [],
   "source": [
    "X = prenumeratorzy.drop([\"po_roku\"], axis=1)\n"
   ]
  },
  {
   "cell_type": "code",
   "execution_count": 47,
   "metadata": {},
   "outputs": [],
   "source": [
    "Y = prenumeratorzy['po_roku']"
   ]
  },
  {
   "cell_type": "code",
   "execution_count": 53,
   "metadata": {},
   "outputs": [
    {
     "data": {
      "text/plain": [
       "(    wolne  napój  wyjście\n",
       " 0       0      0        0\n",
       " 1       0      1        0\n",
       " 2       0      1        1\n",
       " 3       0      0        1\n",
       " 4       1      1        0\n",
       " 5       0      1        1\n",
       " 6       1      0        1\n",
       " 7       1      1        0\n",
       " 8       0      1        1\n",
       " 9       0      0        1\n",
       " 10      1      0        1\n",
       " 11      1      0        0\n",
       " 12      1      1        0\n",
       " 13      0      1        0\n",
       " 14      1      0        1\n",
       " 15      1      1        1\n",
       " 16      1      0        0\n",
       " 17      0      0        0\n",
       " 18      0      0        0\n",
       " 19      1      1        0, 0     0\n",
       " 1     1\n",
       " 2     0\n",
       " 3     0\n",
       " 4     1\n",
       " 5     0\n",
       " 6     1\n",
       " 7     0\n",
       " 8     1\n",
       " 9     0\n",
       " 10    1\n",
       " 11    1\n",
       " 12    1\n",
       " 13    0\n",
       " 14    1\n",
       " 15    1\n",
       " 16    0\n",
       " 17    1\n",
       " 18    1\n",
       " 19    0\n",
       " Name: po_roku, dtype: int64)"
      ]
     },
     "execution_count": 53,
     "metadata": {},
     "output_type": "execute_result"
    }
   ],
   "source": [
    "X"
   ]
  },
  {
   "cell_type": "code",
   "execution_count": 54,
   "metadata": {},
   "outputs": [
    {
     "data": {
      "text/plain": [
       "0     0\n",
       "1     1\n",
       "2     0\n",
       "3     0\n",
       "4     1\n",
       "5     0\n",
       "6     1\n",
       "7     0\n",
       "8     1\n",
       "9     0\n",
       "10    1\n",
       "11    1\n",
       "12    1\n",
       "13    0\n",
       "14    1\n",
       "15    1\n",
       "16    0\n",
       "17    1\n",
       "18    1\n",
       "19    0\n",
       "Name: po_roku, dtype: int64"
      ]
     },
     "execution_count": 54,
     "metadata": {},
     "output_type": "execute_result"
    }
   ],
   "source": [
    "Y"
   ]
  },
  {
   "cell_type": "code",
   "execution_count": 56,
   "metadata": {},
   "outputs": [],
   "source": [
    "klasyfikator = DecisionTreeClassifier(criterion='entropy',max_depth=2)"
   ]
  },
  {
   "cell_type": "code",
   "execution_count": 67,
   "metadata": {},
   "outputs": [
    {
     "data": {
      "text/plain": [
       "DecisionTreeClassifier(class_weight=None, criterion='entropy', max_depth=2,\n",
       "            max_features=None, max_leaf_nodes=None,\n",
       "            min_impurity_decrease=0.0, min_impurity_split=None,\n",
       "            min_samples_leaf=1, min_samples_split=2,\n",
       "            min_weight_fraction_leaf=0.0, presort=False, random_state=None,\n",
       "            splitter='best')"
      ]
     },
     "execution_count": 67,
     "metadata": {},
     "output_type": "execute_result"
    }
   ],
   "source": [
    "klasyfikator.fit(X=X,y=Y)"
   ]
  },
  {
   "cell_type": "code",
   "execution_count": 61,
   "metadata": {},
   "outputs": [],
   "source": [
    "import graphviz\n",
    "from sklearn import tree"
   ]
  },
  {
   "cell_type": "code",
   "execution_count": 77,
   "metadata": {},
   "outputs": [
    {
     "data": {
      "image/svg+xml": [
       "<?xml version=\"1.0\" encoding=\"UTF-8\" standalone=\"no\"?>\r\n",
       "<!DOCTYPE svg PUBLIC \"-//W3C//DTD SVG 1.1//EN\"\r\n",
       " \"http://www.w3.org/Graphics/SVG/1.1/DTD/svg11.dtd\">\r\n",
       "<!-- Generated by graphviz version 2.38.0 (20140413.2041)\r\n",
       " -->\r\n",
       "<!-- Title: Tree Pages: 1 -->\r\n",
       "<svg width=\"498pt\" height=\"314pt\"\r\n",
       " viewBox=\"0.00 0.00 498.00 314.00\" xmlns=\"http://www.w3.org/2000/svg\" xmlns:xlink=\"http://www.w3.org/1999/xlink\">\r\n",
       "<g id=\"graph0\" class=\"graph\" transform=\"scale(1 1) rotate(0) translate(4 310)\">\r\n",
       "<title>Tree</title>\r\n",
       "<polygon fill=\"white\" stroke=\"none\" points=\"-4,4 -4,-310 494,-310 494,4 -4,4\"/>\r\n",
       "<!-- 0 -->\r\n",
       "<g id=\"node1\" class=\"node\"><title>0</title>\r\n",
       "<path fill=\"#399de5\" fill-opacity=\"0.180392\" stroke=\"black\" d=\"M303,-306C303,-306 211,-306 211,-306 205,-306 199,-300 199,-294 199,-294 199,-235 199,-235 199,-229 205,-223 211,-223 211,-223 303,-223 303,-223 309,-223 315,-229 315,-235 315,-235 315,-294 315,-294 315,-300 309,-306 303,-306\"/>\r\n",
       "<text text-anchor=\"start\" x=\"220.5\" y=\"-290.8\" font-family=\"Helvetica,sans-Serif\" font-size=\"14.00\">wolne ≤ 0.5</text>\r\n",
       "<text text-anchor=\"start\" x=\"207\" y=\"-275.8\" font-family=\"Helvetica,sans-Serif\" font-size=\"14.00\">entropy = 0.993</text>\r\n",
       "<text text-anchor=\"start\" x=\"213.5\" y=\"-260.8\" font-family=\"Helvetica,sans-Serif\" font-size=\"14.00\">samples = 20</text>\r\n",
       "<text text-anchor=\"start\" x=\"212.5\" y=\"-245.8\" font-family=\"Helvetica,sans-Serif\" font-size=\"14.00\">value = [9, 11]</text>\r\n",
       "<text text-anchor=\"start\" x=\"222\" y=\"-230.8\" font-family=\"Helvetica,sans-Serif\" font-size=\"14.00\">class = Nie</text>\r\n",
       "</g>\r\n",
       "<!-- 1 -->\r\n",
       "<g id=\"node2\" class=\"node\"><title>1</title>\r\n",
       "<path fill=\"#e58139\" fill-opacity=\"0.333333\" stroke=\"black\" d=\"M236,-187C236,-187 144,-187 144,-187 138,-187 132,-181 132,-175 132,-175 132,-116 132,-116 132,-110 138,-104 144,-104 144,-104 236,-104 236,-104 242,-104 248,-110 248,-116 248,-116 248,-175 248,-175 248,-181 242,-187 236,-187\"/>\r\n",
       "<text text-anchor=\"start\" x=\"149\" y=\"-171.8\" font-family=\"Helvetica,sans-Serif\" font-size=\"14.00\">wyjście ≤ 0.5</text>\r\n",
       "<text text-anchor=\"start\" x=\"140\" y=\"-156.8\" font-family=\"Helvetica,sans-Serif\" font-size=\"14.00\">entropy = 0.971</text>\r\n",
       "<text text-anchor=\"start\" x=\"146.5\" y=\"-141.8\" font-family=\"Helvetica,sans-Serif\" font-size=\"14.00\">samples = 10</text>\r\n",
       "<text text-anchor=\"start\" x=\"149.5\" y=\"-126.8\" font-family=\"Helvetica,sans-Serif\" font-size=\"14.00\">value = [6, 4]</text>\r\n",
       "<text text-anchor=\"start\" x=\"153.5\" y=\"-111.8\" font-family=\"Helvetica,sans-Serif\" font-size=\"14.00\">class = Tak</text>\r\n",
       "</g>\r\n",
       "<!-- 0&#45;&gt;1 -->\r\n",
       "<g id=\"edge1\" class=\"edge\"><title>0&#45;&gt;1</title>\r\n",
       "<path fill=\"none\" stroke=\"black\" d=\"M233.755,-222.907C228.766,-214.195 223.441,-204.897 218.285,-195.893\"/>\r\n",
       "<polygon fill=\"black\" stroke=\"black\" points=\"221.211,-193.959 213.204,-187.021 215.136,-197.438 221.211,-193.959\"/>\r\n",
       "<text text-anchor=\"middle\" x=\"206.648\" y=\"-207.446\" font-family=\"Helvetica,sans-Serif\" font-size=\"14.00\">True</text>\r\n",
       "</g>\r\n",
       "<!-- 4 -->\r\n",
       "<g id=\"node5\" class=\"node\"><title>4</title>\r\n",
       "<path fill=\"#399de5\" fill-opacity=\"0.572549\" stroke=\"black\" d=\"M370,-187C370,-187 278,-187 278,-187 272,-187 266,-181 266,-175 266,-175 266,-116 266,-116 266,-110 272,-104 278,-104 278,-104 370,-104 370,-104 376,-104 382,-110 382,-116 382,-116 382,-175 382,-175 382,-181 376,-187 370,-187\"/>\r\n",
       "<text text-anchor=\"start\" x=\"283\" y=\"-171.8\" font-family=\"Helvetica,sans-Serif\" font-size=\"14.00\">wyjście ≤ 0.5</text>\r\n",
       "<text text-anchor=\"start\" x=\"274\" y=\"-156.8\" font-family=\"Helvetica,sans-Serif\" font-size=\"14.00\">entropy = 0.881</text>\r\n",
       "<text text-anchor=\"start\" x=\"280.5\" y=\"-141.8\" font-family=\"Helvetica,sans-Serif\" font-size=\"14.00\">samples = 10</text>\r\n",
       "<text text-anchor=\"start\" x=\"283.5\" y=\"-126.8\" font-family=\"Helvetica,sans-Serif\" font-size=\"14.00\">value = [3, 7]</text>\r\n",
       "<text text-anchor=\"start\" x=\"289\" y=\"-111.8\" font-family=\"Helvetica,sans-Serif\" font-size=\"14.00\">class = Nie</text>\r\n",
       "</g>\r\n",
       "<!-- 0&#45;&gt;4 -->\r\n",
       "<g id=\"edge4\" class=\"edge\"><title>0&#45;&gt;4</title>\r\n",
       "<path fill=\"none\" stroke=\"black\" d=\"M280.245,-222.907C285.234,-214.195 290.559,-204.897 295.715,-195.893\"/>\r\n",
       "<polygon fill=\"black\" stroke=\"black\" points=\"298.864,-197.438 300.796,-187.021 292.789,-193.959 298.864,-197.438\"/>\r\n",
       "<text text-anchor=\"middle\" x=\"307.352\" y=\"-207.446\" font-family=\"Helvetica,sans-Serif\" font-size=\"14.00\">False</text>\r\n",
       "</g>\r\n",
       "<!-- 2 -->\r\n",
       "<g id=\"node3\" class=\"node\"><title>2</title>\r\n",
       "<path fill=\"#399de5\" fill-opacity=\"0.333333\" stroke=\"black\" d=\"M104,-68C104,-68 12,-68 12,-68 6,-68 0,-62 0,-56 0,-56 0,-12 0,-12 0,-6 6,-0 12,-0 12,-0 104,-0 104,-0 110,-0 116,-6 116,-12 116,-12 116,-56 116,-56 116,-62 110,-68 104,-68\"/>\r\n",
       "<text text-anchor=\"start\" x=\"8\" y=\"-52.8\" font-family=\"Helvetica,sans-Serif\" font-size=\"14.00\">entropy = 0.971</text>\r\n",
       "<text text-anchor=\"start\" x=\"18.5\" y=\"-37.8\" font-family=\"Helvetica,sans-Serif\" font-size=\"14.00\">samples = 5</text>\r\n",
       "<text text-anchor=\"start\" x=\"17.5\" y=\"-22.8\" font-family=\"Helvetica,sans-Serif\" font-size=\"14.00\">value = [2, 3]</text>\r\n",
       "<text text-anchor=\"start\" x=\"23\" y=\"-7.8\" font-family=\"Helvetica,sans-Serif\" font-size=\"14.00\">class = Nie</text>\r\n",
       "</g>\r\n",
       "<!-- 1&#45;&gt;2 -->\r\n",
       "<g id=\"edge2\" class=\"edge\"><title>1&#45;&gt;2</title>\r\n",
       "<path fill=\"none\" stroke=\"black\" d=\"M140.848,-103.726C129.413,-94.2406 117.255,-84.1551 105.877,-74.7159\"/>\r\n",
       "<polygon fill=\"black\" stroke=\"black\" points=\"108.073,-71.9905 98.142,-68.2996 103.604,-77.3781 108.073,-71.9905\"/>\r\n",
       "</g>\r\n",
       "<!-- 3 -->\r\n",
       "<g id=\"node4\" class=\"node\"><title>3</title>\r\n",
       "<path fill=\"#e58139\" fill-opacity=\"0.749020\" stroke=\"black\" d=\"M238,-68C238,-68 146,-68 146,-68 140,-68 134,-62 134,-56 134,-56 134,-12 134,-12 134,-6 140,-0 146,-0 146,-0 238,-0 238,-0 244,-0 250,-6 250,-12 250,-12 250,-56 250,-56 250,-62 244,-68 238,-68\"/>\r\n",
       "<text text-anchor=\"start\" x=\"142\" y=\"-52.8\" font-family=\"Helvetica,sans-Serif\" font-size=\"14.00\">entropy = 0.722</text>\r\n",
       "<text text-anchor=\"start\" x=\"152.5\" y=\"-37.8\" font-family=\"Helvetica,sans-Serif\" font-size=\"14.00\">samples = 5</text>\r\n",
       "<text text-anchor=\"start\" x=\"151.5\" y=\"-22.8\" font-family=\"Helvetica,sans-Serif\" font-size=\"14.00\">value = [4, 1]</text>\r\n",
       "<text text-anchor=\"start\" x=\"155.5\" y=\"-7.8\" font-family=\"Helvetica,sans-Serif\" font-size=\"14.00\">class = Tak</text>\r\n",
       "</g>\r\n",
       "<!-- 1&#45;&gt;3 -->\r\n",
       "<g id=\"edge3\" class=\"edge\"><title>1&#45;&gt;3</title>\r\n",
       "<path fill=\"none\" stroke=\"black\" d=\"M190.745,-103.726C190.895,-95.5175 191.053,-86.8595 191.204,-78.56\"/>\r\n",
       "<polygon fill=\"black\" stroke=\"black\" points=\"194.708,-78.3619 191.392,-68.2996 187.71,-78.234 194.708,-78.3619\"/>\r\n",
       "</g>\r\n",
       "<!-- 5 -->\r\n",
       "<g id=\"node6\" class=\"node\"><title>5</title>\r\n",
       "<path fill=\"none\" stroke=\"black\" d=\"M360,-68C360,-68 284,-68 284,-68 278,-68 272,-62 272,-56 272,-56 272,-12 272,-12 272,-6 278,-0 284,-0 284,-0 360,-0 360,-0 366,-0 372,-6 372,-12 372,-12 372,-56 372,-56 372,-62 366,-68 360,-68\"/>\r\n",
       "<text text-anchor=\"start\" x=\"280\" y=\"-52.8\" font-family=\"Helvetica,sans-Serif\" font-size=\"14.00\">entropy = 1.0</text>\r\n",
       "<text text-anchor=\"start\" x=\"282.5\" y=\"-37.8\" font-family=\"Helvetica,sans-Serif\" font-size=\"14.00\">samples = 6</text>\r\n",
       "<text text-anchor=\"start\" x=\"281.5\" y=\"-22.8\" font-family=\"Helvetica,sans-Serif\" font-size=\"14.00\">value = [3, 3]</text>\r\n",
       "<text text-anchor=\"start\" x=\"285.5\" y=\"-7.8\" font-family=\"Helvetica,sans-Serif\" font-size=\"14.00\">class = Tak</text>\r\n",
       "</g>\r\n",
       "<!-- 4&#45;&gt;5 -->\r\n",
       "<g id=\"edge5\" class=\"edge\"><title>4&#45;&gt;5</title>\r\n",
       "<path fill=\"none\" stroke=\"black\" d=\"M323.255,-103.726C323.105,-95.5175 322.947,-86.8595 322.796,-78.56\"/>\r\n",
       "<polygon fill=\"black\" stroke=\"black\" points=\"326.29,-78.234 322.608,-68.2996 319.292,-78.3619 326.29,-78.234\"/>\r\n",
       "</g>\r\n",
       "<!-- 6 -->\r\n",
       "<g id=\"node7\" class=\"node\"><title>6</title>\r\n",
       "<path fill=\"#399de5\" stroke=\"black\" d=\"M478,-68C478,-68 402,-68 402,-68 396,-68 390,-62 390,-56 390,-56 390,-12 390,-12 390,-6 396,-0 402,-0 402,-0 478,-0 478,-0 484,-0 490,-6 490,-12 490,-12 490,-56 490,-56 490,-62 484,-68 478,-68\"/>\r\n",
       "<text text-anchor=\"start\" x=\"398\" y=\"-52.8\" font-family=\"Helvetica,sans-Serif\" font-size=\"14.00\">entropy = 0.0</text>\r\n",
       "<text text-anchor=\"start\" x=\"400.5\" y=\"-37.8\" font-family=\"Helvetica,sans-Serif\" font-size=\"14.00\">samples = 4</text>\r\n",
       "<text text-anchor=\"start\" x=\"399.5\" y=\"-22.8\" font-family=\"Helvetica,sans-Serif\" font-size=\"14.00\">value = [0, 4]</text>\r\n",
       "<text text-anchor=\"start\" x=\"405\" y=\"-7.8\" font-family=\"Helvetica,sans-Serif\" font-size=\"14.00\">class = Nie</text>\r\n",
       "</g>\r\n",
       "<!-- 4&#45;&gt;6 -->\r\n",
       "<g id=\"edge6\" class=\"edge\"><title>4&#45;&gt;6</title>\r\n",
       "<path fill=\"none\" stroke=\"black\" d=\"M367.194,-103.726C377.05,-94.423 387.516,-84.5428 397.349,-75.2612\"/>\r\n",
       "<polygon fill=\"black\" stroke=\"black\" points=\"399.854,-77.7092 404.724,-68.2996 395.049,-72.6189 399.854,-77.7092\"/>\r\n",
       "</g>\r\n",
       "</g>\r\n",
       "</svg>\r\n"
      ],
      "text/plain": [
       "<graphviz.files.Source at 0x1d8000141d0>"
      ]
     },
     "execution_count": 77,
     "metadata": {},
     "output_type": "execute_result"
    }
   ],
   "source": [
    "drzewo = tree.export_graphviz(klasyfikator, out_file=None, \n",
    "                         feature_names=X.columns,  \n",
    "                         class_names=po_roku_kody,  \n",
    "                         filled=True, rounded=True,  \n",
    "                         special_characters=True)\n",
    "graf = graphviz.Source(drzewo)\n",
    "graf"
   ]
  },
  {
   "cell_type": "code",
   "execution_count": null,
   "metadata": {},
   "outputs": [],
   "source": []
  },
  {
   "cell_type": "code",
   "execution_count": 80,
   "metadata": {},
   "outputs": [
    {
     "data": {
      "text/plain": [
       "0.7"
      ]
     },
     "execution_count": 80,
     "metadata": {},
     "output_type": "execute_result"
    }
   ],
   "source": [
    "klasyfikator.score(X,Y)"
   ]
  },
  {
   "cell_type": "code",
   "execution_count": null,
   "metadata": {},
   "outputs": [],
   "source": []
  }
 ],
 "metadata": {
  "kernelspec": {
   "display_name": "Python 3",
   "language": "python",
   "name": "python3"
  },
  "language_info": {
   "codemirror_mode": {
    "name": "ipython",
    "version": 3
   },
   "file_extension": ".py",
   "mimetype": "text/x-python",
   "name": "python",
   "nbconvert_exporter": "python",
   "pygments_lexer": "ipython3",
   "version": "3.6.6"
  }
 },
 "nbformat": 4,
 "nbformat_minor": 2
}
